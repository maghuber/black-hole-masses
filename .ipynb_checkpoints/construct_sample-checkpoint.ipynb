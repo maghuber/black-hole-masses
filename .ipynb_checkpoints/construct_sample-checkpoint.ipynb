{
 "cells": [
  {
   "cell_type": "markdown",
   "id": "e746f3ee-df73-4ee4-9e13-9883a954781c",
   "metadata": {},
   "source": [
    "## Imports"
   ]
  },
  {
   "cell_type": "code",
   "execution_count": 1,
   "id": "79bbbeb9-824f-4126-9527-d6a63b13cdcf",
   "metadata": {},
   "outputs": [],
   "source": [
    "from astropy.table import Table, join, setdiff, Column\n",
    "from astropy.io import ascii\n",
    "import numpy as np"
   ]
  },
  {
   "cell_type": "markdown",
   "id": "4c267d3f-0c44-407c-9a05-457f29ed25cd",
   "metadata": {},
   "source": [
    "## Read in S11 and MT14 catalogs"
   ]
  },
  {
   "cell_type": "code",
   "execution_count": 5,
   "id": "79a0067b-caa9-4403-ab1f-840346ce5f03",
   "metadata": {},
   "outputs": [],
   "source": [
    "mt14 = Table.read(\"../tables/s11_mt14/mt14.tsv\",\n",
    "        format=\"ascii\") ## excluded null logMb and logMd so the columns load as floats and not strings\n",
    "s11 = Table.read(\"../tables/s11_mt14/s11.tsv\", \n",
    "        format=\"ascii\",exclude_names=['z']) ## excluded null e, ng, Rhlr\n",
    "sample = join(s11,mt14,keys='objID')"
   ]
  },
  {
   "cell_type": "markdown",
   "id": "3d3eeda8-f92d-44be-9405-9c937c0cc5b2",
   "metadata": {},
   "source": [
    "## Sample cuts"
   ]
  },
  {
   "cell_type": "code",
   "execution_count": 6,
   "id": "1e325c87-27c0-4a6a-8473-200da172e04c",
   "metadata": {},
   "outputs": [
    {
     "name": "stdout",
     "output_type": "stream",
     "text": [
      "645006\n",
      "638111\n",
      "601007\n",
      "600744\n",
      "600559\n",
      "600541\n",
      "600527\n",
      "512821\n"
     ]
    }
   ],
   "source": [
    "## mass cuts have already been done when downloading mt14.tsv\n",
    "## redshift cut\n",
    "print(len(sample))\n",
    "sample = sample[np.where(sample['z'] >= 0.02)]\n",
    "print(len(sample))\n",
    "sample = sample[np.where(sample['z'] <= 0.2)]\n",
    "print(len(sample))\n",
    "## ensure two sigmas\n",
    "sample = sample[np.where(sample['logMb'] != sample['b_logMb'])]\n",
    "print(len(sample))\n",
    "sample = sample[np.where(sample['logMb'] != sample['B_logMb'])]\n",
    "print(len(sample))\n",
    "sample = sample[np.where(sample['logMt'] != sample['b_logMt'])]\n",
    "print(len(sample))\n",
    "sample = sample[np.where(sample['logMt'] != sample['B_logMt'])]\n",
    "print(len(sample))\n",
    "## ensure agreement between 1D and 2D fits\n",
    "sample = sample[np.where(sample['dBD'] < 1)]\n",
    "print(len(sample))"
   ]
  },
  {
   "cell_type": "markdown",
   "id": "2527e5cb-74cf-4ff2-a6af-19c743e17306",
   "metadata": {},
   "source": [
    "## Calculate B/T, false disk correction, Mb and Mt errors"
   ]
  },
  {
   "cell_type": "code",
   "execution_count": 7,
   "id": "4fb81fae-99d3-4bd1-b48f-2f1b29665e6d",
   "metadata": {},
   "outputs": [],
   "source": [
    "## bulge fraction \n",
    "logMb = np.asarray(sample['logMb'],dtype=float)\n",
    "b_logMb = np.asarray(sample['b_logMb'],dtype=float)\n",
    "B_logMb = np.asarray(sample['B_logMb'],dtype=float)\n",
    "logMd = np.asarray(sample['logMd'],dtype=float)\n",
    "logMt = np.asarray(sample['logMt'],dtype=float)\n",
    "b_logMt = np.asarray(sample['b_logMt'],dtype=float)\n",
    "B_logMt = np.asarray(sample['B_logMt'],dtype=float)\n",
    "BT = np.zeros(len(sample))\n",
    "false_disk = np.zeros(len(sample))\n",
    "logMbd = np.zeros(len(sample))\n",
    "\n",
    "for i in range(len(sample)):\n",
    "    bulge = logMb[i]\n",
    "    disk = logMd[i]\n",
    "    BT[i] = (10**bulge)/(10**bulge+10**disk)\n",
    "    logMbd[i] = np.log10(10**bulge+10**disk)\n",
    "    if sample['PpS'][i] > 0.32 and BT[i] > 0.7:\n",
    "        BT[i] = 1.0\n",
    "        false_disk[i] = 1\n",
    "        \n",
    "sample.add_column(np.round(BT,3),name='B/T')\n",
    "sample.add_column(false_disk,name='false_disk')\n",
    "sample.add_column(np.round(logMbd,3),name='logMbd')"
   ]
  },
  {
   "cell_type": "code",
   "execution_count": 8,
   "id": "6a6f83b6-62bc-4cd4-8291-9afe87ca1aae",
   "metadata": {},
   "outputs": [],
   "source": [
    "## calculate sigmas\n",
    "def sigmas(lower,upper,median):\n",
    "    sig1 = []\n",
    "    sig2 = []\n",
    "    for i,m in enumerate(median):\n",
    "        sig1.append(np.round(median[i] - lower[i],4))\n",
    "        sig2.append(np.round(upper[i] - median[i],4))\n",
    "    return sig1, sig2\n",
    "sigmasMt = sigmas(b_logMt,B_logMt,logMt)\n",
    "sigmasMb = sigmas(b_logMb,B_logMb,logMb)"
   ]
  },
  {
   "cell_type": "markdown",
   "id": "6092cfa7-b20e-4563-b392-d7daa13f7748",
   "metadata": {},
   "source": [
    "## Check bulge fraction groups"
   ]
  },
  {
   "cell_type": "code",
   "execution_count": 9,
   "id": "b5b13c3c-94c1-427f-843f-4b0157366ff0",
   "metadata": {},
   "outputs": [
    {
     "data": {
      "text/html": [
       "<div><i>Table length=4</i>\n",
       "<table id=\"table4666569168\" class=\"table-striped table-bordered table-condensed\">\n",
       "<thead><tr><th>Class</th><th>Size</th></tr></thead>\n",
       "<thead><tr><th>str5</th><th>int64</th></tr></thead>\n",
       "<tr><td>BT20</td><td>108654</td></tr>\n",
       "<tr><td>BT50</td><td>119506</td></tr>\n",
       "<tr><td>BT80</td><td>132368</td></tr>\n",
       "<tr><td>BT100</td><td>152293</td></tr>\n",
       "</table></div>"
      ],
      "text/plain": [
       "<Table length=4>\n",
       "Class  Size \n",
       " str5 int64 \n",
       "----- ------\n",
       " BT20 108654\n",
       " BT50 119506\n",
       " BT80 132368\n",
       "BT100 152293"
      ]
     },
     "execution_count": 9,
     "metadata": {},
     "output_type": "execute_result"
    }
   ],
   "source": [
    "BT20 = np.asarray(sample[sample['B/T'] < 0.2])\n",
    "BT50 = sample[sample['B/T'] >= 0.2]\n",
    "BT50 = np.asarray(BT50[BT50['B/T'] < 0.5])\n",
    "BT80 = sample[sample['B/T'] >= 0.5]\n",
    "BT80 = np.asarray(BT80[BT80['B/T'] < 0.8])\n",
    "BT100 = np.asarray(sample[sample['B/T'] >= 0.8])\n",
    "bulgefracarr = {'Class' : ['BT20','BT50','BT80','BT100'],\n",
    "     'Size' : [BT20.size,BT50.size,BT80.size,BT100.size]\n",
    "      }\n",
    "bulgegroups = Table(bulgefracarr)\n",
    "bulgegroups"
   ]
  },
  {
   "cell_type": "markdown",
   "id": "9df28e17-c7ff-43bc-bd53-0e0e3b1c3078",
   "metadata": {},
   "source": [
    "## Compile photometry.dat table"
   ]
  },
  {
   "cell_type": "code",
   "execution_count": 10,
   "id": "90e51958-e61a-4c49-b3dc-e5fcdd4a5925",
   "metadata": {},
   "outputs": [],
   "source": [
    "arr = {'objID' : sample['objID'],\n",
    "       'z' : sample['z'],\n",
    "       'zmin' : sample['zmin'],\n",
    "       'zmax' : sample['zmax'],\n",
    "       'ra' : sample['_RA'],\n",
    "       'dec' : sample['_DE'],\n",
    "       'logMt' : sample['logMt'],\n",
    "       'b_logMt' : sample['b_logMt'],\n",
    "       'B_logMt' : sample['B_logMt'],\n",
    "       'sig1_Mt' : sigmasMt[0],\n",
    "       'sig2_Mt' : sigmasMt[1],\n",
    "       'logMb' : sample['logMb'],\n",
    "       'b_logMb' : sample['b_logMb'],\n",
    "       'B_logMb' : sample['B_logMb'],\n",
    "       'sig1_Mb' : sigmasMb[0],\n",
    "       'sig2_Mb' : sigmasMb[1],\n",
    "       'Rhlr' : sample['Rhlr'],\n",
    "       'e' : sample['e'],\n",
    "       'e_e' : sample['e_e'],\n",
    "       'ng' : sample['ng'],\n",
    "       'e_ng' : sample['e_ng'],\n",
    "       'B/T' : sample['B/T'],\n",
    "       'false_disk': sample['false_disk'],\n",
    "       'logMbd' : sample['logMbd']\n",
    "      }\n",
    "table = Table(arr)"
   ]
  },
  {
   "cell_type": "code",
   "execution_count": 11,
   "id": "9a43b4b6-1b1b-444d-9411-a688dbed9f7d",
   "metadata": {},
   "outputs": [],
   "source": [
    "ascii.write(table, '../tables/photometry.dat', overwrite=True) \n",
    "ascii.write(table, '../tables/objIDs.dat', overwrite=True,include_names=['objID']) "
   ]
  }
 ],
 "metadata": {
  "kernelspec": {
   "display_name": "Python 3 (ipykernel)",
   "language": "python",
   "name": "python3"
  },
  "language_info": {
   "codemirror_mode": {
    "name": "ipython",
    "version": 3
   },
   "file_extension": ".py",
   "mimetype": "text/x-python",
   "name": "python",
   "nbconvert_exporter": "python",
   "pygments_lexer": "ipython3",
   "version": "3.11.4"
  }
 },
 "nbformat": 4,
 "nbformat_minor": 5
}
